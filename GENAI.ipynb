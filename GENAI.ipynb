{
  "nbformat": 4,
  "nbformat_minor": 0,
  "metadata": {
    "colab": {
      "provenance": []
    },
    "kernelspec": {
      "name": "python3",
      "display_name": "Python 3"
    },
    "language_info": {
      "name": "python"
    }
  },
  "cells": [
    {
      "cell_type": "code",
      "source": [
        "import google.generativeai as genai"
      ],
      "metadata": {
        "id": "UxiQIW5vnsAa"
      },
      "execution_count": null,
      "outputs": []
    },
    {
      "cell_type": "code",
      "source": [
        "# Replace 'YOUR_API_KEY' with your actual ChatGPT API key\n",
        "api_key = 'Enter Your API Key'\n",
        "\n",
        "# Configure the generative AI library with your API key\n",
        "genai.configure(api_key=api_key)\n",
        "\n",
        "# Select the ChatGPT model (e.g., ChatGPT 1.5 Pro or ChatGPT Pro)\n",
        "model = genai.GenerativeModel('gemini-1.5-pro-latest')  # Or 'gemini-pro' for text-only, or other available models"
      ],
      "metadata": {
        "id": "vscXCzV1nvcV"
      },
      "execution_count": null,
      "outputs": []
    },
    {
      "cell_type": "code",
      "source": [
        "# Prepare your prompt/query\n",
        "prompt = \"Write a short poem about the ocean.\""
      ],
      "metadata": {
        "id": "amfg_AvJn0vy"
      },
      "execution_count": null,
      "outputs": []
    },
    {
      "cell_type": "code",
      "source": [
        "# Generate content\n",
        "response = model.generate_content(prompt)\n",
        "\n",
        "# Print the response\n",
        "print(response.text)"
      ],
      "metadata": {
        "colab": {
          "base_uri": "https://localhost:8080/",
          "height": 138
        },
        "id": "vTVvwzAJn5nU",
        "outputId": "e04977b7-162f-4907-f978-7d3261829179"
      },
      "execution_count": null,
      "outputs": [
        {
          "output_type": "stream",
          "name": "stdout",
          "text": [
            "Vast expanse of blue so deep,\n",
            "Where secrets swirl and mysteries sleep.\n",
            "Waves that crash and gently sigh,\n",
            "Beneath a vast and endless sky.\n",
            "Salty air and sun's warm kiss,\n",
            "Ocean's beauty, pure bliss. \n",
            "\n"
          ]
        }
      ]
    },
    {
      "cell_type": "code",
      "source": [
        "#Example with streaming:  (useful for longer responses)\n",
        "\n",
        "prompt = \"Write a very long story about a cat.\"  # Use a long prompt\n",
        "response = model.generate_content(prompt, stream=True)  # Add stream=True for streaming\n",
        "\n",
        "# Iterate through the response stream to get all the parts\n",
        "for chunk in response: # The response itself is an iterator\n",
        "  print(chunk.text)\n",
        "  print(\"---Chunk---\")  # Separator for readability\n",
        "\n",
        "# Now you can access response.parts since the iteration is complete\n",
        "# for part in response.parts:\n",
        "#   print(part.text)\n",
        "#   print(\"---Part---\")  # Separator for readability"
      ],
      "metadata": {
        "colab": {
          "base_uri": "https://localhost:8080/",
          "height": 1000
        },
        "id": "QqHjLrS9o0eD",
        "outputId": "2142fc74-8f51-4905-f756-bc9856810e69"
      },
      "execution_count": null,
      "outputs": [
        {
          "output_type": "stream",
          "name": "stdout",
          "text": [
            "Clement\n",
            "---Chunk---\n",
            "ine, a\n",
            "---Chunk---\n",
            " marmalade tabby with eyes like melted butterscotch, surveyed her kingdom from atop the\n",
            "---Chunk---\n",
            " refrigerator. Her domain, a rambling Victorian house overflowing with dusty antiques and sunbeams\n",
            "---Chunk---\n",
            " thick with motes, was hers and hers alone.  The humans, a kindly elderly couple named Agnes and Edgar, were merely facilitators of her comfort, providers of\n",
            "---Chunk---\n",
            " tuna, and scratchers of chins.\n",
            "\n",
            "Clementine had arrived at the house as a scraggly kitten, abandoned in a wicker basket on their porch\n",
            "---Chunk---\n",
            " during a thunderstorm. Agnes, a woman whose heart was as soft as her homemade bread, had taken one look at the tiny, shivering creature and declared her destiny sealed. Edgar, a man of few words but immense affection for his wife, had\n",
            "---Chunk---\n",
            " simply nodded and fetched a saucer of warm milk.\n",
            "\n",
            "From that day forward, Clementine had woven herself into the fabric of the house. She knew the creak of every floorboard, the chirp of every bird that landed on the windowsill,\n",
            "---Chunk---\n",
            " the exact moment Agnes would rise to fill her bird feeder. She knew the warmest spot on the rug in front of the fireplace, the perfect angle of the sunbeam that spilled across the worn velvet armchair in the library. She ruled with a velvet paw, a purr that rumbled like a distant motor, and a\n",
            "---Chunk---\n",
            " stare that could melt glaciers.\n",
            "\n",
            "Her days were filled with the important business of catting.  Stalking dust bunnies under the grand piano, batting at the tassels on Agnes's shawls, napping in precarious positions that defied gravity – these were her pursuits. She tolerated Edgar's attempts at playing fetch with a\n",
            "---Chunk---\n",
            " crumpled ball of paper, allowing him the small victory of her retrieving it once, perhaps twice, before deigning to nap on the newspaper he was trying to read.\n",
            "\n",
            "One crisp autumn day, a disruption entered Clementine’s carefully curated life. A large, orange cardboard box appeared in the hallway. It pulsed with\n",
            "---Chunk---\n",
            " an unfamiliar scent, a mixture of cardboard and something...wild.  Clementine approached with caution, her tail held high, a question mark etched in its elegant curve.  Agnes and Edgar hovered around the box, their voices filled with a strange, high-pitched excitement.\n",
            "\n",
            "\"Careful, Edgar,\" Agnes chirped,\n",
            "---Chunk---\n",
            " \"Don't let him out too quickly!\"\n",
            "\n",
            "\"Him?\" Clementine thought, her whiskers twitching.\n",
            "\n",
            "With a flourish, Edgar opened the box. Out sprang a creature unlike anything Clementine had ever seen. A small, fluffy whirlwind of white fur, it bounced around the hallway, yipping and sniffing, its\n",
            "---Chunk---\n",
            " pink tongue lolling out. It was a puppy.\n",
            "\n",
            "Clementine's world tilted on its axis. This…this interloper…dared to invade her space, her kingdom! She puffed up her fur, her tail bushed out like a bottlebrush. A low growl rumbled in her throat.\n",
            "\n",
            "\n",
            "---Chunk---\n",
            "The puppy, oblivious to Clementine’s displeasure, bounded towards her, its tail wagging furiously.  It sniffed at her nose, then attempted to lick her ear.  Clementine recoiled in horror.  This was an outrage!\n",
            "\n",
            "The puppy, whose name, she learned with disgust, was Winston,\n",
            "---Chunk---\n",
            " was relentless. He followed her everywhere, yipping and bouncing, trying to engage her in play. He stole her favorite napping spots, chewed on her toy mice, and generally made a nuisance of himself.  Clementine retaliated with icy glares, hissed warnings, and the occasional swat with a sheathed paw.\n",
            "---Chunk---\n",
            "\n",
            "\n",
            "Agnes and Edgar, bless their clueless hearts, seemed to think this was adorable.  “Look at them playing!” Agnes would coo, completely misinterpreting Clementine’s thinly veiled hostility.\n",
            "\n",
            "Weeks turned into months. Clementine, despite her best efforts, found herself slowly warming to the furry tornado.  She\n",
            "---Chunk---\n",
            " discovered that Winston, while undeniably annoying, was also quite warm and cuddly. On cold nights, she found herself nestled against him in front of the fire, his fluffy body radiating heat. She even, on one particularly daring occasion, allowed him to lick her ear without retaliating.\n",
            "\n",
            "One snowy afternoon, Winston wandered out\n",
            "---Chunk---\n",
            " the back door, which Agnes had carelessly left ajar.  Clementine, watching from the window, saw him disappear into the swirling white landscape.  A pang of something she hadn’t felt before, something akin to…worry, tightened in her chest.\n",
            "\n",
            "She darted outside, braving the biting wind and the\n",
            "---Chunk---\n",
            " unfamiliar crunch of snow beneath her paws. She found Winston trapped in a snowdrift, whimpering and shivering.  Clementine nudged him with her nose, encouraging him to get up.  He whined again, too cold to move.\n",
            "\n",
            "Without hesitation, Clementine curled up around him, shielding him from the wind\n",
            "---Chunk---\n",
            " with her body.  She purred loudly, the vibrations a comforting rumble against his small frame.  She stayed there, a marmalade beacon in the snow, until Agnes, alerted by her absence, found them and carried them both back inside.\n",
            "\n",
            "That night, curled up in front of the fire, Winston snuggled close to\n",
            "---Chunk---\n",
            " Clementine, licking her ear gratefully. Clementine didn’t flinch.  She purred, a deep, contented rumble that vibrated through the quiet house.  She had a kingdom, yes, but now she also had something else, something unexpected and surprisingly precious. She had a friend.  And even\n",
            "---Chunk---\n",
            " a queen, she realized, sometimes needs a friend.  The house, once hers alone, was now theirs, filled with the comforting sounds of a purr and the happy panting of a puppy, a testament to the unexpected magic of friendship.\n",
            "\n",
            "---Chunk---\n"
          ]
        }
      ]
    },
    {
      "cell_type": "code",
      "source": [
        "#Example with safety settings\n",
        "\n",
        "safety_settings = [\n",
        "  {\n",
        "    \"category\": \"HARM_CATEGORY_HARASSMENT\",\n",
        "    \"threshold\": \"BLOCK_MEDIUM_AND_ABOVE\"\n",
        "  },\n",
        "  {\n",
        "    \"category\": \"HARM_CATEGORY_HATE_SPEECH\",\n",
        "    \"threshold\": \"BLOCK_MEDIUM_AND_ABOVE\"\n",
        "  },\n",
        "  {\n",
        "    \"category\": \"HARM_CATEGORY_SEXUALLY_EXPLICIT\",\n",
        "    \"threshold\": \"BLOCK_MEDIUM_AND_ABOVE\"\n",
        "  },\n",
        "  {\n",
        "    \"category\": \"HARM_CATEGORY_DANGEROUS_CONTENT\",\n",
        "    \"threshold\": \"BLOCK_MEDIUM_AND_ABOVE\"\n",
        "  }\n",
        "]\n",
        "\n",
        "response = model.generate_content(prompt, safety_settings=safety_settings)\n",
        "print(response.text)"
      ],
      "metadata": {
        "colab": {
          "base_uri": "https://localhost:8080/",
          "height": 419
        },
        "id": "UWqii3mwoHj_",
        "outputId": "e7f77554-5f41-415b-cdf5-f1d951f14728"
      },
      "execution_count": null,
      "outputs": [
        {
          "output_type": "stream",
          "name": "stdout",
          "text": [
            "Clementine, a calico cat with fur the colour of a sunset over a strawberry field, was not your average feline. While other cats contented themselves with naps in sunbeams and the occasional feathered snack, Clementine dreamt of adventure.  Her green eyes, flecked with gold, held a perpetual glint of mischief, and her whiskers twitched with an almost electric energy.  She resided in the quaint, cluttered bookshop owned by a kind, elderly woman named Agnes, but Clementine considered the shop merely her base of operations, a launching pad for her grand explorations.\n",
            "\n",
            "Agnes, bless her soul, was oblivious to Clementine’s wanderlust.  She saw a cuddly, purring companion, a furry friend to chase away the shop’s resident mice (a task Clementine performed with a theatrical flair, involving dramatic leaps and elaborate chases, much to the amusement of the shop’s patrons).  But once Agnes’ gentle snores echoed from her upstairs apartment, Clementine’s true life began.\n",
            "\n",
            "She would slip out through the cat flap, a tiny shadow disappearing into the night. The cobbled streets of the town, bathed in the soft glow of streetlights, became her kingdom.  She knew every nook and cranny, every hidden alleyway, every rooftop with the best view of the moon.  The town’s other nocturnal inhabitants – the scurrying mice, the rustling possums, the occasional stray dog – all knew Clementine, the calico queen of the night.\n",
            "\n",
            "One night, a particularly alluring scent wafted on the breeze, a mixture of fish and sawdust.  Clementine, her curiosity piqued, followed the scent to the docks.  There, amidst the creaking of ropes and the gentle lapping of waves, she found the source – a large fishing trawler, the “Sea Serpent,” newly arrived in port.  Drawn by the promise of adventure (and perhaps a tasty seafood snack), Clementine, with a graceful leap, boarded the ship.\n",
            "\n",
            "The ship’s crew, a motley bunch of weathered sailors, were initially startled by the stowaway cat.  But Clementine, with her charming purrs and playful antics, quickly won them over.  The captain, a gruff man with a surprisingly soft spot for animals, named her “Lucky” and allowed her to stay.\n",
            "\n",
            "And so, Clementine, now Lucky, embarked on a grand seafaring adventure.  She explored the ship from stem to stern, befriending the ship’s cook (who often slipped her extra bits of fish) and terrorizing the ship’s rat population (much to the crew’s delight). She learned the rhythm of the sea, the creak of the ship’s timbers, the taste of salt spray on her whiskers.\n",
            "\n",
            "The Sea Serpent sailed to exotic ports, each one a new and exciting world for Clementine to explore. In Morocco, she chased brightly coloured butterflies through bustling marketplaces. In Japan, she marvelled at the serene beauty of ancient temples. In Italy, she sampled the finest tuna (much to the chagrin of the ship’s cook).\n",
            "\n",
            "But Clementine, despite her love for adventure, never forgot Agnes.  She carried a small, faded photograph of Agnes tucked behind her ear, a reminder of the warm, cozy bookshop that was her true home.  After a year of sailing the high seas, Clementine felt a pang of homesickness. She missed Agnes’ gentle touch, the smell of old books, the familiar creak of the bookshop door.\n",
            "\n",
            "So, when the Sea Serpent returned to its home port, Clementine, with a bittersweet meow, bid farewell to her seafaring companions. She snuck off the ship and, guided by an instinct as strong as the pull of the tide, made her way back to the bookshop.\n",
            "\n",
            "Agnes, who had been heartbroken by Clementine’s disappearance, was overjoyed to see her furry friend return, slightly thinner, a bit more worldly, and sporting a small, seashell-shaped scar behind her ear, a memento of her adventures.\n",
            "\n",
            "Clementine settled back into her life at the bookshop, but she was no longer just a bookshop cat. She was Clementine, the adventurer, the seafaring calico, the queen of the night.  She still slipped out at night, exploring the familiar streets of her town, but now, her dreams were filled with the scent of the sea, the cry of gulls, and the memory of faraway lands. And sometimes, when the wind howled outside the bookshop window, Agnes would swear she could hear the faintest echo of a ship’s horn, a ghostly reminder of Clementine’s extraordinary journey.  And Clementine, curled up on Agnes' lap, would purr contentedly, her green eyes, flecked with gold, gleaming with the memories of a thousand adventures, and the promise of many more to come.\n",
            "\n"
          ]
        }
      ]
    },
    {
      "cell_type": "code",
      "source": [
        "#Example with chat sessions\n",
        "\n",
        "chat = model.start_chat()\n",
        "response = chat.send_message(\"Hello, ChatGPT!\")\n",
        "print(response.text)\n",
        "response = chat.send_message(\"What is the capital of France?\")\n",
        "print(response.text) # Note that ChatGPT 'remembers' the conversation"
      ],
      "metadata": {
        "colab": {
          "base_uri": "https://localhost:8080/",
          "height": 86
        },
        "id": "HKtTt1Xgok_B",
        "outputId": "770ffdf1-1a71-4745-87bf-932254957a10"
      },
      "execution_count": null,
      "outputs": [
        {
          "output_type": "stream",
          "name": "stdout",
          "text": [
            "Hello! How can I help you today?\n",
            "\n",
            "The capital of France is Paris.\n",
            "\n"
          ]
        }
      ]
    },
    {
      "cell_type": "code",
      "source": [
        "#Example with system instructions\n",
        "\n",
        "chat = model.start_chat(system_instruction=\"You are a helpful and concise assistant.\")\n",
        "response = chat.send_message(\"Summarize the plot of Hamlet in three sentences.\")\n",
        "print(response.text)"
      ],
      "metadata": {
        "colab": {
          "base_uri": "https://localhost:8080/",
          "height": 263
        },
        "id": "Keao5cKQow9z",
        "outputId": "dcbeab15-af33-4e25-c5d5-0536a1458276"
      },
      "execution_count": null,
      "outputs": [
        {
          "output_type": "error",
          "ename": "TypeError",
          "evalue": "GenerativeModel.start_chat() got an unexpected keyword argument 'system_instruction'",
          "traceback": [
            "\u001b[0;31m---------------------------------------------------------------------------\u001b[0m",
            "\u001b[0;31mTypeError\u001b[0m                                 Traceback (most recent call last)",
            "\u001b[0;32m<ipython-input-11-5740feb9c4d0>\u001b[0m in \u001b[0;36m<cell line: 0>\u001b[0;34m()\u001b[0m\n\u001b[1;32m      1\u001b[0m \u001b[0;31m#Example with system instructions\u001b[0m\u001b[0;34m\u001b[0m\u001b[0;34m\u001b[0m\u001b[0m\n\u001b[1;32m      2\u001b[0m \u001b[0;34m\u001b[0m\u001b[0m\n\u001b[0;32m----> 3\u001b[0;31m \u001b[0mchat\u001b[0m \u001b[0;34m=\u001b[0m \u001b[0mmodel\u001b[0m\u001b[0;34m.\u001b[0m\u001b[0mstart_chat\u001b[0m\u001b[0;34m(\u001b[0m\u001b[0msystem_instruction\u001b[0m\u001b[0;34m=\u001b[0m\u001b[0;34m\"You are a helpful and concise assistant.\"\u001b[0m\u001b[0;34m)\u001b[0m\u001b[0;34m\u001b[0m\u001b[0;34m\u001b[0m\u001b[0m\n\u001b[0m\u001b[1;32m      4\u001b[0m \u001b[0mresponse\u001b[0m \u001b[0;34m=\u001b[0m \u001b[0mchat\u001b[0m\u001b[0;34m.\u001b[0m\u001b[0msend_message\u001b[0m\u001b[0;34m(\u001b[0m\u001b[0;34m\"Summarize the plot of Hamlet in three sentences.\"\u001b[0m\u001b[0;34m)\u001b[0m\u001b[0;34m\u001b[0m\u001b[0;34m\u001b[0m\u001b[0m\n\u001b[1;32m      5\u001b[0m \u001b[0mprint\u001b[0m\u001b[0;34m(\u001b[0m\u001b[0mresponse\u001b[0m\u001b[0;34m.\u001b[0m\u001b[0mtext\u001b[0m\u001b[0;34m)\u001b[0m\u001b[0;34m\u001b[0m\u001b[0;34m\u001b[0m\u001b[0m\n",
            "\u001b[0;31mTypeError\u001b[0m: GenerativeModel.start_chat() got an unexpected keyword argument 'system_instruction'"
          ]
        }
      ]
    },
    {
      "cell_type": "code",
      "source": [
        "chat = model.start_chat()\n",
        "response = chat.send_message(\"You are a helpful and concise assistant.\")  # System instruction as first message\n",
        "response = chat.send_message(\"Summarize the plot of Hamlet in three sentences.\")\n",
        "print(response.text)"
      ],
      "metadata": {
        "id": "nJ1B35rzpMXc",
        "outputId": "cb08fa95-3fb2-4160-ee0f-1458e1c0b555",
        "colab": {
          "base_uri": "https://localhost:8080/",
          "height": 72
        }
      },
      "execution_count": null,
      "outputs": [
        {
          "output_type": "stream",
          "name": "stdout",
          "text": [
            "Prince Hamlet is tasked by his father's ghost to avenge his murder at the hands of Hamlet's uncle, Claudius.  Hamlet feigns madness while plotting revenge, causing collateral damage and delaying his action.  Ultimately, the play culminates in a duel where Hamlet, Claudius, Gertrude, and Laertes all die.\n",
            "\n"
          ]
        }
      ]
    }
  ]
}